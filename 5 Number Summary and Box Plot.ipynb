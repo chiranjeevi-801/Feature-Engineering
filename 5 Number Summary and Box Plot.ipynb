{
 "cells": [
  {
   "cell_type": "markdown",
   "id": "aebef985",
   "metadata": {},
   "source": [
    "# 5 Number Summary And Box Plot"
   ]
  },
  {
   "cell_type": "markdown",
   "id": "12b803a5",
   "metadata": {},
   "source": [
    " IQR = Interquartile Range\n",
    "\n",
    " Formula:\n",
    "\n",
    "            IQR=Q3−Q1 \n",
    "\n",
    "\n",
    "Q1 (1st quartile / 25th percentile): value below which 25% of the data lies.\n",
    "\n",
    "Q3 (3rd quartile / 75th percentile): value below which 75% of the data lies.\n",
    "\n",
    "It represents the range of the middle 50% of the data.\n",
    "\n",
    "Used to detect outliers and understand data distribution."
   ]
  },
  {
   "cell_type": "code",
   "execution_count": null,
   "id": "bca04103",
   "metadata": {},
   "outputs": [],
   "source": [
    "## Minimum,Maximumu,Median,Q1,Q3,IQR( Interquartile Range)\n",
    "\n",
    "import numpy as np\n",
    "lst_marks=[43,32,56,75,89,54,32,89,90,67,87,98,99,67,74]\n",
    "minimum,Q1,median,Q3,maximum=np.quantile(lst_marks,[0,0.24,0.50,0.75,1.0])\n",
    "\n"
   ]
  },
  {
   "cell_type": "code",
   "execution_count": 6,
   "id": "70510b7a",
   "metadata": {},
   "outputs": [
    {
     "data": {
      "text/plain": [
       "(np.float64(32.0),\n",
       " np.float64(54.72),\n",
       " np.float64(89.0),\n",
       " np.float64(74.0),\n",
       " np.float64(99.0))"
      ]
     },
     "execution_count": 6,
     "metadata": {},
     "output_type": "execute_result"
    }
   ],
   "source": [
    "minimum,Q1,Q3,median,maximum"
   ]
  },
  {
   "cell_type": "code",
   "execution_count": 9,
   "id": "e16beb09",
   "metadata": {},
   "outputs": [
    {
     "name": "stdout",
     "output_type": "stream",
     "text": [
      "34.28\n"
     ]
    }
   ],
   "source": [
    "IQR=Q3-Q1\n",
    "print(IQR)"
   ]
  },
  {
   "cell_type": "code",
   "execution_count": 10,
   "id": "d8d3698b",
   "metadata": {},
   "outputs": [],
   "source": [
    "lower_fence=Q1-1.5*(IQR)\n",
    "higher_fence=Q3-1.5*(IQR)"
   ]
  },
  {
   "cell_type": "code",
   "execution_count": 11,
   "id": "938ded35",
   "metadata": {},
   "outputs": [
    {
     "data": {
      "text/plain": [
       "np.float64(3.299999999999997)"
      ]
     },
     "execution_count": 11,
     "metadata": {},
     "output_type": "execute_result"
    }
   ],
   "source": [
    "lower_fence"
   ]
  },
  {
   "cell_type": "code",
   "execution_count": 12,
   "id": "52dcc601",
   "metadata": {},
   "outputs": [
    {
     "data": {
      "text/plain": [
       "np.float64(37.58)"
      ]
     },
     "execution_count": 12,
     "metadata": {},
     "output_type": "execute_result"
    }
   ],
   "source": [
    "higher_fence"
   ]
  },
  {
   "cell_type": "code",
   "execution_count": 13,
   "id": "e2570ad8",
   "metadata": {},
   "outputs": [],
   "source": [
    "lst_marks=[43,32,56,75,89,54,32,89,90,67,87,98,99,67,74]\n"
   ]
  },
  {
   "cell_type": "code",
   "execution_count": 14,
   "id": "d90642a5",
   "metadata": {},
   "outputs": [
    {
     "data": {
      "text/plain": [
       "<Axes: >"
      ]
     },
     "execution_count": 14,
     "metadata": {},
     "output_type": "execute_result"
    },
    {
     "data": {
      "image/png": "[encoded data removed]",
      "text/plain": [
       "<Figure size 640x480 with 1 Axes>"
      ]
     },
     "metadata": {},
     "output_type": "display_data"
    }
   ],
   "source": [
    "import seaborn as sns\n",
    "sns.boxplot(lst_marks)"
   ]
  },
  {
   "cell_type": "code",
   "execution_count": 15,
   "id": "22e3ec37",
   "metadata": {},
   "outputs": [
    {
     "data": {
      "text/plain": [
       "<Axes: >"
      ]
     },
     "execution_count": 15,
     "metadata": {},
     "output_type": "execute_result"
    },
    {
     "data": {
      "image/png": "[encoded data removed]",
      "text/plain": [
       "<Figure size 640x480 with 1 Axes>"
      ]
     },
     "metadata": {},
     "output_type": "display_data"
    }
   ],
   "source": [
    "lst_marks=[-100,-50,43,32,56,75,89,54,32,89,90,67,87,98,99,67,74,150,200,250]\n",
    "sns.boxplot(lst_marks)"
   ]
  },
  {
   "cell_type": "code",
   "execution_count": null,
   "id": "3c8c9cdb",
   "metadata": {},
   "outputs": [],
   "source": []
  }
 ],
 "metadata": {
  "kernelspec": {
   "display_name": "Python 3",
   "language": "python",
   "name": "python3"
  },
  "language_info": {
   "codemirror_mode": {
    "name": "ipython",
    "version": 3
   },
   "file_extension": ".py",
   "mimetype": "text/x-python",
   "name": "python",
   "nbconvert_exporter": "python",
   "pygments_lexer": "ipython3",
   "version": "3.12.0"
  }
 },
 "nbformat": 4,
 "nbformat_minor": 5
}
