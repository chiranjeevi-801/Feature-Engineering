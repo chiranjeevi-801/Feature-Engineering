{
 "cells": [
  {
   "cell_type": "markdown",
   "id": "1e148208",
   "metadata": {},
   "source": [
    "# Label Encoding "
   ]
  },
  {
   "cell_type": "markdown",
   "id": "700f278b",
   "metadata": {},
   "source": [
    "lable encoding and ordinal encoding are two technique used catagorical data as numerical data\n",
    "\n",
    "Lable encoding involves assigning a unique numerical label to each category in the variable.The lables are usually assigned in alphabetical order or based om the ferquence of the categories.For example, if we have a categorical variable \"color\" with three possible values (red,green,blue),we can represent it using lablel encodeng  as follows :\n",
    "\n",
    "1. Red:1\n",
    "\n",
    "2. Green:2\n",
    "\n",
    "3. Blue:3"
   ]
  },
  {
   "cell_type": "code",
   "execution_count": null,
   "id": "5f76e466",
   "metadata": {},
   "outputs": [],
   "source": []
  }
 ],
 "metadata": {
  "kernelspec": {
   "display_name": "Python 3",
   "language": "python",
   "name": "python3"
  },
  "language_info": {
   "codemirror_mode": {
    "name": "ipython",
    "version": 3
   },
   "file_extension": ".py",
   "mimetype": "text/x-python",
   "name": "python",
   "nbconvert_exporter": "python",
   "pygments_lexer": "ipython3",
   "version": "3.12.0"
  }
 },
 "nbformat": 4,
 "nbformat_minor": 5
}
