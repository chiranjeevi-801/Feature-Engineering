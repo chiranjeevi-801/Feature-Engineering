{
 "cells": [
  {
   "cell_type": "markdown",
   "id": "1e148208",
   "metadata": {},
   "source": [
    "# Label Encoding "
   ]
  },
  {
   "cell_type": "markdown",
   "id": "700f278b",
   "metadata": {},
   "source": [
    "lable encoding and ordinal encoding are two technique used catagorical data as numerical data\n",
    "\n",
    "Lable encoding involves assigning a unique numerical label to each category in the variable.The lables are usually assigned in alphabetical order or based on the ferquence of the categories.For example, if we have a categorical variable \"color\" with three possible values (red,green,blue),we can represent it using lablel encoding  as follows :\n",
    "\n",
    "1. Red:1\n",
    "\n",
    "2. Green:2\n",
    "\n",
    "3. Blue:3"
   ]
  },
  {
   "cell_type": "markdown",
   "id": "99c6a259",
   "metadata": {},
   "source": [
    "#### Definition:\n",
    "\n",
    "Label Encoding is a simple technique to convert categorical values into numeric codes by assigning each unique category an integer.\n",
    "\n"
   ]
  },
  {
   "cell_type": "markdown",
   "id": "c575740f",
   "metadata": {},
   "source": [
    "## ✅ Why do we use Label Encoding?\n",
    "\n",
    "### 1. Algorithms require numbers\n",
    "\n",
    "* Most ML models can’t handle text directly. Encoding is needed to transform text into numbers.\n",
    "\n",
    "### 2. Memory efficient\n",
    "\n",
    "* Unlike One-Hot Encoding, it does not create extra columns → uses only a single column with integers.\n",
    "\n",
    "* Good for datasets with many categories.\n",
    "\n",
    "### 3. Works well when categories have order\n",
    "\n",
    "* Example: \"Small\", \"Medium\", \"Large\" → naturally map to 0, 1, 2.\n",
    "\n",
    "* Label Encoding preserves this ordering.\n",
    "\n",
    "### 4. Quick and simple\n",
    "\n",
    "* Easy to implement and fast even on large datasets.\n",
    "\n"
   ]
  },
  {
   "cell_type": "code",
   "execution_count": 3,
   "id": "5f76e466",
   "metadata": {},
   "outputs": [],
   "source": [
    "import pandas as pd\n",
    "df=pd.DataFrame({\n",
    "    'color':['red','blue','green','green','red','blue']\n",
    "})\n"
   ]
  },
  {
   "cell_type": "code",
   "execution_count": 4,
   "id": "94659f4c",
   "metadata": {},
   "outputs": [
    {
     "data": {
      "text/html": [
       "<div>\n",
       "<style scoped>\n",
       "    .dataframe tbody tr th:only-of-type {\n",
       "        vertical-align: middle;\n",
       "    }\n",
       "\n",
       "    .dataframe tbody tr th {\n",
       "        vertical-align: top;\n",
       "    }\n",
       "\n",
       "    .dataframe thead th {\n",
       "        text-align: right;\n",
       "    }\n",
       "</style>\n",
       "<table border=\"1\" class=\"dataframe\">\n",
       "  <thead>\n",
       "    <tr style=\"text-align: right;\">\n",
       "      <th></th>\n",
       "      <th>color</th>\n",
       "    </tr>\n",
       "  </thead>\n",
       "  <tbody>\n",
       "    <tr>\n",
       "      <th>0</th>\n",
       "      <td>red</td>\n",
       "    </tr>\n",
       "    <tr>\n",
       "      <th>1</th>\n",
       "      <td>blue</td>\n",
       "    </tr>\n",
       "    <tr>\n",
       "      <th>2</th>\n",
       "      <td>green</td>\n",
       "    </tr>\n",
       "    <tr>\n",
       "      <th>3</th>\n",
       "      <td>green</td>\n",
       "    </tr>\n",
       "    <tr>\n",
       "      <th>4</th>\n",
       "      <td>red</td>\n",
       "    </tr>\n",
       "  </tbody>\n",
       "</table>\n",
       "</div>"
      ],
      "text/plain": [
       "   color\n",
       "0    red\n",
       "1   blue\n",
       "2  green\n",
       "3  green\n",
       "4    red"
      ]
     },
     "execution_count": 4,
     "metadata": {},
     "output_type": "execute_result"
    }
   ],
   "source": [
    "df.head()"
   ]
  },
  {
   "cell_type": "code",
   "execution_count": 8,
   "id": "3943d6f6",
   "metadata": {},
   "outputs": [],
   "source": [
    "from sklearn.preprocessing import LabelEncoder\n",
    "\n",
    "lbl_encoder = LabelEncoder()\n"
   ]
  },
  {
   "cell_type": "code",
   "execution_count": 9,
   "id": "1d29dd83",
   "metadata": {},
   "outputs": [
    {
     "name": "stderr",
     "output_type": "stream",
     "text": [
      "c:\\Users\\chira\\venv\\Lib\\site-packages\\sklearn\\preprocessing\\_label.py:110: DataConversionWarning: A column-vector y was passed when a 1d array was expected. Please change the shape of y to (n_samples, ), for example using ravel().\n",
      "  y = column_or_1d(y, warn=True)\n"
     ]
    },
    {
     "data": {
      "text/plain": [
       "array([2, 0, 1, 1, 2, 0])"
      ]
     },
     "execution_count": 9,
     "metadata": {},
     "output_type": "execute_result"
    }
   ],
   "source": [
    "lbl_encoder.fit_transform(df[['color']])"
   ]
  },
  {
   "cell_type": "code",
   "execution_count": 10,
   "id": "af8a73f2",
   "metadata": {},
   "outputs": [
    {
     "name": "stderr",
     "output_type": "stream",
     "text": [
      "c:\\Users\\chira\\venv\\Lib\\site-packages\\sklearn\\preprocessing\\_label.py:129: DataConversionWarning: A column-vector y was passed when a 1d array was expected. Please change the shape of y to (n_samples, ), for example using ravel().\n",
      "  y = column_or_1d(y, dtype=self.classes_.dtype, warn=True)\n"
     ]
    },
    {
     "data": {
      "text/plain": [
       "array([2])"
      ]
     },
     "execution_count": 10,
     "metadata": {},
     "output_type": "execute_result"
    }
   ],
   "source": [
    "lbl_encoder.transform([['red']])"
   ]
  },
  {
   "cell_type": "code",
   "execution_count": 11,
   "id": "89557f7a",
   "metadata": {},
   "outputs": [
    {
     "name": "stderr",
     "output_type": "stream",
     "text": [
      "c:\\Users\\chira\\venv\\Lib\\site-packages\\sklearn\\preprocessing\\_label.py:129: DataConversionWarning: A column-vector y was passed when a 1d array was expected. Please change the shape of y to (n_samples, ), for example using ravel().\n",
      "  y = column_or_1d(y, dtype=self.classes_.dtype, warn=True)\n"
     ]
    },
    {
     "data": {
      "text/plain": [
       "array([0])"
      ]
     },
     "execution_count": 11,
     "metadata": {},
     "output_type": "execute_result"
    }
   ],
   "source": [
    "lbl_encoder.transform([['blue']])"
   ]
  },
  {
   "cell_type": "code",
   "execution_count": 13,
   "id": "b6cb0c6e",
   "metadata": {},
   "outputs": [
    {
     "name": "stderr",
     "output_type": "stream",
     "text": [
      "c:\\Users\\chira\\venv\\Lib\\site-packages\\sklearn\\preprocessing\\_label.py:129: DataConversionWarning: A column-vector y was passed when a 1d array was expected. Please change the shape of y to (n_samples, ), for example using ravel().\n",
      "  y = column_or_1d(y, dtype=self.classes_.dtype, warn=True)\n"
     ]
    },
    {
     "data": {
      "text/plain": [
       "array([1])"
      ]
     },
     "execution_count": 13,
     "metadata": {},
     "output_type": "execute_result"
    }
   ],
   "source": [
    "lbl_encoder.transform([['green']])"
   ]
  },
  {
   "cell_type": "markdown",
   "id": "98a453ab",
   "metadata": {},
   "source": [
    "# Ordinal Encoding "
   ]
  },
  {
   "cell_type": "markdown",
   "id": "d3646382",
   "metadata": {},
   "source": [
    "It is used to encode categorical data that have an inrinsic order or ranking. in this technique,each category is assigned a numerical value based on its position in the order. \n",
    "\n",
    "for Example: \n",
    "\n",
    "If we have a categorical variable \"eduction level \" with four possition values(high school,collage,graduate,post-graduate), we can represent it using ordinal encoding as follows :\n",
    "\n",
    "1. High school:1\n",
    "\n",
    "2. Collage:2\n",
    "\n",
    "3. Graduate:3\n",
    "\n",
    "4. Post-gradute:4"
   ]
  },
  {
   "cell_type": "markdown",
   "id": "b92f648c",
   "metadata": {},
   "source": [
    " ### Definition:\n",
    "Ordinal Encoding is a method of converting categorical values into integers based on their order/rank.\n",
    "Unlike Label Encoding (which just assigns arbitrary numbers), Ordinal Encoding respects the natural order in the categories.\n",
    "\n",
    "\n",
    "# ✅ Why do we use Ordinal Encoding?\n",
    "\n",
    "### 1. Preserves natural order\n",
    "\n",
    "* Some categories have an inherent ranking (e.g., education level, size, rating).\n",
    "\n",
    "* Ordinal Encoding keeps that relationship.\n",
    "\n",
    "### 2. Efficient representation\n",
    "\n",
    "* Uses just one column with integers, unlike One-Hot Encoding that creates many new columns.\n",
    "\n",
    "### 3. Helps models learn order-based patterns\n",
    "\n",
    "* Linear Regression or Logistic Regression can use the numeric relationship (e.g., “High” is greater than “Medium”).\n",
    "\n",
    "### 4. Memory friendly\n",
    "\n",
    "* Works well with features that have ordered categories and avoids the curse of dimensionality from One-Hot Encoding.\n",
    "\n"
   ]
  },
  {
   "cell_type": "code",
   "execution_count": 14,
   "id": "067977fa",
   "metadata": {},
   "outputs": [],
   "source": [
    "## Ordinal Encoding\n",
    "\n",
    "from sklearn.preprocessing import OrdinalEncoder\n"
   ]
  },
  {
   "cell_type": "code",
   "execution_count": 20,
   "id": "4dd7f0a9",
   "metadata": {},
   "outputs": [],
   "source": [
    "## Create a sample a dataframe with an Ordinal variable \n",
    "\n",
    "df=pd.DataFrame({\n",
    "    'size':['small','medium','large','medium','small','large']\n",
    "\n",
    "})"
   ]
  },
  {
   "cell_type": "code",
   "execution_count": 16,
   "id": "e98b3ed5",
   "metadata": {},
   "outputs": [
    {
     "data": {
      "text/html": [
       "<div>\n",
       "<style scoped>\n",
       "    .dataframe tbody tr th:only-of-type {\n",
       "        vertical-align: middle;\n",
       "    }\n",
       "\n",
       "    .dataframe tbody tr th {\n",
       "        vertical-align: top;\n",
       "    }\n",
       "\n",
       "    .dataframe thead th {\n",
       "        text-align: right;\n",
       "    }\n",
       "</style>\n",
       "<table border=\"1\" class=\"dataframe\">\n",
       "  <thead>\n",
       "    <tr style=\"text-align: right;\">\n",
       "      <th></th>\n",
       "      <th>size</th>\n",
       "    </tr>\n",
       "  </thead>\n",
       "  <tbody>\n",
       "    <tr>\n",
       "      <th>0</th>\n",
       "      <td>small</td>\n",
       "    </tr>\n",
       "    <tr>\n",
       "      <th>1</th>\n",
       "      <td>medium</td>\n",
       "    </tr>\n",
       "    <tr>\n",
       "      <th>2</th>\n",
       "      <td>large</td>\n",
       "    </tr>\n",
       "    <tr>\n",
       "      <th>3</th>\n",
       "      <td>medium</td>\n",
       "    </tr>\n",
       "    <tr>\n",
       "      <th>4</th>\n",
       "      <td>samll</td>\n",
       "    </tr>\n",
       "    <tr>\n",
       "      <th>5</th>\n",
       "      <td>large</td>\n",
       "    </tr>\n",
       "  </tbody>\n",
       "</table>\n",
       "</div>"
      ],
      "text/plain": [
       "     size\n",
       "0   small\n",
       "1  medium\n",
       "2   large\n",
       "3  medium\n",
       "4   samll\n",
       "5   large"
      ]
     },
     "execution_count": 16,
     "metadata": {},
     "output_type": "execute_result"
    }
   ],
   "source": [
    "df"
   ]
  },
  {
   "cell_type": "code",
   "execution_count": 21,
   "id": "258b522a",
   "metadata": {},
   "outputs": [
    {
     "data": {
      "text/plain": [
       "array([[0.],\n",
       "       [1.],\n",
       "       [2.],\n",
       "       [1.],\n",
       "       [0.],\n",
       "       [2.]])"
      ]
     },
     "execution_count": 21,
     "metadata": {},
     "output_type": "execute_result"
    }
   ],
   "source": [
    "## Create  an instance of OrdinalEncoder and then fit_transform\n",
    "\n",
    "encoder=OrdinalEncoder(categories=[['small','medium','large']])\n",
    "\n",
    "encoder.fit_transform(df[['size']])"
   ]
  },
  {
   "cell_type": "code",
   "execution_count": 22,
   "id": "6e6d8ce5",
   "metadata": {},
   "outputs": [
    {
     "name": "stderr",
     "output_type": "stream",
     "text": [
      "c:\\Users\\chira\\venv\\Lib\\site-packages\\sklearn\\utils\\validation.py:2749: UserWarning: X does not have valid feature names, but OrdinalEncoder was fitted with feature names\n",
      "  warnings.warn(\n"
     ]
    },
    {
     "data": {
      "text/plain": [
       "array([[0.]])"
      ]
     },
     "execution_count": 22,
     "metadata": {},
     "output_type": "execute_result"
    }
   ],
   "source": [
    "encoder.transform([['small']])"
   ]
  },
  {
   "cell_type": "code",
   "execution_count": null,
   "id": "503e3049",
   "metadata": {},
   "outputs": [],
   "source": []
  }
 ],
 "metadata": {
  "kernelspec": {
   "display_name": "Python 3",
   "language": "python",
   "name": "python3"
  },
  "language_info": {
   "codemirror_mode": {
    "name": "ipython",
    "version": 3
   },
   "file_extension": ".py",
   "mimetype": "text/x-python",
   "name": "python",
   "nbconvert_exporter": "python",
   "pygments_lexer": "ipython3",
   "version": "3.12.0"
  }
 },
 "nbformat": 4,
 "nbformat_minor": 5
}
